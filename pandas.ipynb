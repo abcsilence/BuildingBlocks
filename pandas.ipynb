{
  "nbformat": 4,
  "nbformat_minor": 0,
  "metadata": {
    "colab": {
      "provenance": [],
      "toc_visible": true,
      "authorship_tag": "ABX9TyPILnnwkPIcUZvmkGaz66dJ",
      "include_colab_link": true
    },
    "kernelspec": {
      "name": "python3",
      "display_name": "Python 3"
    },
    "language_info": {
      "name": "python"
    }
  },
  "cells": [
    {
      "cell_type": "markdown",
      "metadata": {
        "id": "view-in-github",
        "colab_type": "text"
      },
      "source": [
        "<a href=\"https://colab.research.google.com/github/abcsilence/BuildingBlocks/blob/main/pandas.ipynb\" target=\"_parent\"><img src=\"https://colab.research.google.com/assets/colab-badge.svg\" alt=\"Open In Colab\"/></a>"
      ]
    },
    {
      "cell_type": "markdown",
      "source": [
        "## PANDAS\n",
        "## Data Preprocessing in Machine Learning using pandas\n"
      ],
      "metadata": {
        "id": "vi_x7zX4J1iE"
      }
    },
    {
      "cell_type": "code",
      "source": [
        "import pandas as pd"
      ],
      "metadata": {
        "id": "YYToADhDLEuc"
      },
      "execution_count": 1,
      "outputs": []
    },
    {
      "cell_type": "code",
      "source": [
        "data={\n",
        "    \"cars\":[\"bmw\", \"honda\", \"suzuki\", \"byd\"],\n",
        "    \"models\":[\"2007\", \"2008\", \"2008\", \"2022\"],\n",
        "    \"passen\":[\"4\", \"5\",\"6\",\"7\"]\n",
        "}\n",
        "print(data)"
      ],
      "metadata": {
        "colab": {
          "base_uri": "https://localhost:8080/"
        },
        "id": "1zIkYF4KLIab",
        "outputId": "3840c3b8-d6f7-41e6-f7f2-fd5984d9733a"
      },
      "execution_count": 3,
      "outputs": [
        {
          "output_type": "stream",
          "name": "stdout",
          "text": [
            "{'cars': ['bmw', 'honda', 'suzuki', 'byd'], 'models': ['2007', '2008', '2008', '2022'], 'passen': ['4', '5', '6', '7']}\n"
          ]
        }
      ]
    },
    {
      "cell_type": "code",
      "source": [
        "# convert this dictionary to dataframe\n",
        "df = pd.DataFrame(data)\n",
        "print(df)"
      ],
      "metadata": {
        "colab": {
          "base_uri": "https://localhost:8080/"
        },
        "id": "Ne2eDlAlL4cf",
        "outputId": "47d93dbb-9bcd-4b29-b8ae-bb74d7128cbb"
      },
      "execution_count": 5,
      "outputs": [
        {
          "output_type": "stream",
          "name": "stdout",
          "text": [
            "     cars models passen\n",
            "0     bmw   2007      4\n",
            "1   honda   2008      5\n",
            "2  suzuki   2008      6\n",
            "3     byd   2022      7\n"
          ]
        }
      ]
    },
    {
      "cell_type": "code",
      "source": [
        "df_to_csb = df.to_csv(\"cars.csv\")"
      ],
      "metadata": {
        "id": "YT0FcV3FMQm1"
      },
      "execution_count": 6,
      "outputs": []
    },
    {
      "cell_type": "code",
      "source": [
        "df = pd.read_csv(\"cars.csv\")\n",
        "print(df)"
      ],
      "metadata": {
        "colab": {
          "base_uri": "https://localhost:8080/"
        },
        "id": "IiK1xUF4MhLd",
        "outputId": "6d190f35-df7c-4257-a3b1-9d90f17e0fc5"
      },
      "execution_count": 7,
      "outputs": [
        {
          "output_type": "stream",
          "name": "stdout",
          "text": [
            "   Unnamed: 0    cars  models  passen\n",
            "0           0     bmw    2007       4\n",
            "1           1   honda    2008       5\n",
            "2           2  suzuki    2008       6\n",
            "3           3     byd    2022       7\n"
          ]
        }
      ]
    },
    {
      "cell_type": "code",
      "source": [
        "# check the version of pandas\n",
        "pd.__version__"
      ],
      "metadata": {
        "colab": {
          "base_uri": "https://localhost:8080/",
          "height": 35
        },
        "id": "xRCczsBoM8rC",
        "outputId": "5ec29213-dd3c-4392-c2b5-1e6d848b208c"
      },
      "execution_count": 8,
      "outputs": [
        {
          "output_type": "execute_result",
          "data": {
            "text/plain": [
              "'2.2.2'"
            ],
            "application/vnd.google.colaboratory.intrinsic+json": {
              "type": "string"
            }
          },
          "metadata": {},
          "execution_count": 8
        }
      ]
    },
    {
      "cell_type": "code",
      "source": [
        "# Pandas Series\n",
        "import pandas as pd\n",
        "a = [1, 7, 2]\n",
        "myvar = pd.Series(a)\n",
        "print(myvar)"
      ],
      "metadata": {
        "colab": {
          "base_uri": "https://localhost:8080/"
        },
        "id": "P5JUGyW_N6yg",
        "outputId": "a9b974b3-e526-45d3-ab20-422822b05515"
      },
      "execution_count": 9,
      "outputs": [
        {
          "output_type": "stream",
          "name": "stdout",
          "text": [
            "0    1\n",
            "1    7\n",
            "2    2\n",
            "dtype: int64\n"
          ]
        }
      ]
    },
    {
      "cell_type": "code",
      "source": [
        "#Create labels in pandas with index\n",
        "a = [1, 7, 2]\n",
        "myvar = pd.Series(a, index = [\"x\", \"y\", \"z\"])\n",
        "print(myvar)"
      ],
      "metadata": {
        "colab": {
          "base_uri": "https://localhost:8080/"
        },
        "id": "6M1zy54YOhP3",
        "outputId": "4c8ae769-bd48-406d-b960-8550473b6679"
      },
      "execution_count": 10,
      "outputs": [
        {
          "output_type": "stream",
          "name": "stdout",
          "text": [
            "x    1\n",
            "y    7\n",
            "z    2\n",
            "dtype: int64\n"
          ]
        }
      ]
    },
    {
      "cell_type": "code",
      "source": [
        "print(myvar[\"x\"])"
      ],
      "metadata": {
        "colab": {
          "base_uri": "https://localhost:8080/"
        },
        "id": "6JG_DP39O5eO",
        "outputId": "ce76a604-61a3-4494-87c5-bbd9f83b0766"
      },
      "execution_count": 12,
      "outputs": [
        {
          "output_type": "stream",
          "name": "stdout",
          "text": [
            "1\n"
          ]
        }
      ]
    },
    {
      "cell_type": "markdown",
      "source": [
        "Dataframe"
      ],
      "metadata": {
        "id": "NvRgjjerP9-i"
      }
    },
    {
      "cell_type": "code",
      "source": [
        "#Create a dataframe from two series\n",
        "import pandas as pd\n",
        "data={\n",
        "    \"calories\":[420, 380, 390],\n",
        "    \"duration\":[50, 40, 45]\n",
        "}\n",
        "df = pd.DataFrame(data)\n",
        "print(df)\n"
      ],
      "metadata": {
        "colab": {
          "base_uri": "https://localhost:8080/"
        },
        "id": "hDrOz8u2QFsj",
        "outputId": "45d43c09-14e6-4ef8-acd0-2738fb48e723"
      },
      "execution_count": 13,
      "outputs": [
        {
          "output_type": "stream",
          "name": "stdout",
          "text": [
            "   calories  duration\n",
            "0       420        50\n",
            "1       380        40\n",
            "2       390        45\n"
          ]
        }
      ]
    },
    {
      "cell_type": "code",
      "source": [
        "# locare ROW using loc function\n",
        "print(df.loc[0])"
      ],
      "metadata": {
        "colab": {
          "base_uri": "https://localhost:8080/"
        },
        "id": "vGKuJHMbQZbB",
        "outputId": "82caf32a-687e-406e-dfe8-8a6199a84ea2"
      },
      "execution_count": 14,
      "outputs": [
        {
          "output_type": "stream",
          "name": "stdout",
          "text": [
            "calories    420\n",
            "duration     50\n",
            "Name: 0, dtype: int64\n"
          ]
        }
      ]
    },
    {
      "cell_type": "code",
      "source": [
        "# return 0 and 1\n",
        "print(df.loc[[0, 2]])"
      ],
      "metadata": {
        "colab": {
          "base_uri": "https://localhost:8080/"
        },
        "id": "bsorD1XmRBt-",
        "outputId": "4f600c09-e814-4977-c251-95c45e24d850"
      },
      "execution_count": 15,
      "outputs": [
        {
          "output_type": "stream",
          "name": "stdout",
          "text": [
            "   calories  duration\n",
            "0       420        50\n",
            "1       380        40\n"
          ]
        }
      ]
    },
    {
      "cell_type": "code",
      "source": [
        "#indexing with day1, day2, day3\n",
        "import pandas as pd\n",
        "data ={\n",
        "    \"calories\":[420, 380, 390],\n",
        "    \"duration\":[50, 40, 45]\n",
        "\n",
        "}\n",
        "df=pd.DataFrame(data, index = [\"day1\", \"day2\", \"day3\"])\n",
        "print(df)\n"
      ],
      "metadata": {
        "colab": {
          "base_uri": "https://localhost:8080/"
        },
        "id": "-JP65UHCR9qG",
        "outputId": "cc02d46c-8b71-4b99-93df-3d96ea7c53f1"
      },
      "execution_count": 16,
      "outputs": [
        {
          "output_type": "stream",
          "name": "stdout",
          "text": [
            "      calories  duration\n",
            "day1       420        50\n",
            "day2       380        40\n",
            "day3       390        45\n"
          ]
        }
      ]
    },
    {
      "cell_type": "code",
      "source": [
        "print(df.loc[\"day2\"])"
      ],
      "metadata": {
        "colab": {
          "base_uri": "https://localhost:8080/"
        },
        "id": "HBPdNCswTEWs",
        "outputId": "367e75a4-1ead-4916-c4ae-23a92320afbb"
      },
      "execution_count": 17,
      "outputs": [
        {
          "output_type": "stream",
          "name": "stdout",
          "text": [
            "calories    380\n",
            "duration     40\n",
            "Name: day2, dtype: int64\n"
          ]
        }
      ]
    },
    {
      "cell_type": "code",
      "source": [
        "print(df.loc[\"day1\"])"
      ],
      "metadata": {
        "colab": {
          "base_uri": "https://localhost:8080/"
        },
        "id": "dOY3moUOT89T",
        "outputId": "9848cb5b-8b53-4019-c935-f400dfeefe45"
      },
      "execution_count": 18,
      "outputs": [
        {
          "output_type": "stream",
          "name": "stdout",
          "text": [
            "calories    420\n",
            "duration     50\n",
            "Name: day1, dtype: int64\n"
          ]
        }
      ]
    },
    {
      "cell_type": "code",
      "source": [
        "print(df.loc[\"day3\"])"
      ],
      "metadata": {
        "colab": {
          "base_uri": "https://localhost:8080/"
        },
        "id": "I0VBO30_UAMu",
        "outputId": "59fa8677-c9bf-454a-ba3c-760babe07420"
      },
      "execution_count": 19,
      "outputs": [
        {
          "output_type": "stream",
          "name": "stdout",
          "text": [
            "calories    390\n",
            "duration     45\n",
            "Name: day3, dtype: int64\n"
          ]
        }
      ]
    },
    {
      "cell_type": "markdown",
      "source": [
        "Data Cleaning with pandas\n",
        "\n",
        "bad data can be\n",
        "- empty cells\n",
        "- datqa in wrong format\n",
        "- wrong data\n",
        "- Duplicates\n"
      ],
      "metadata": {
        "id": "CtX5sHosUZ0J"
      }
    },
    {
      "cell_type": "code",
      "source": [
        "import pandas as pd\n",
        "df = pd.read_csv(\"pandas_dataset.csv\")\n",
        "print(df)"
      ],
      "metadata": {
        "colab": {
          "base_uri": "https://localhost:8080/"
        },
        "id": "id5lGSbzYI5B",
        "outputId": "46fd047d-3236-4b54-c0a4-b58c860a7d35"
      },
      "execution_count": 20,
      "outputs": [
        {
          "output_type": "stream",
          "name": "stdout",
          "text": [
            "    Duration         Date  Pulse  Maxpulse  Calories\n",
            "0         60  2020/12/01'    110       130     409.1\n",
            "1         60  2020/12/02'    117       145     479.0\n",
            "2         60  2020/12/03'    103       135     340.0\n",
            "3         45  2020/12/04'    109       175     282.4\n",
            "4         45  2020/12/05'    117       148     406.0\n",
            "5         60  2020/12/06'    102       127     300.0\n",
            "6         60  2020/12/07'    110       136     374.0\n",
            "7        450  2020/12/08'    104       134     253.3\n",
            "8         30  2020/12/09'    109       133     195.1\n",
            "9         60  2020/12/10'     98       124     269.0\n",
            "10        60  2020/12/11'    103       147     329.3\n",
            "11        60  2020/12/12'    100       120     250.7\n",
            "12        60  2020/12/12'    100       120     250.7\n",
            "13        60  2020/12/13'    106       128     345.3\n",
            "14        60  2020/12/14'    104       132     379.3\n",
            "15        60  2020/12/15'     98       123     275.0\n",
            "16        60  2020/12/16'     98       120     215.2\n",
            "17        60  2020/12/17'    100       120     300.0\n",
            "18        45  2020/12/18'     90       112       NaN\n",
            "19        60  2020/12/19'    103       123     323.0\n",
            "20        45  2020/12/20'     97       125     243.0\n",
            "21        60  2020/12/21'    108       131     364.2\n",
            "22        45          NaN    100       119     282.0\n",
            "23        60  2020/12/23'    130       101     300.0\n",
            "24        45  2020/12/24'    105       132     246.0\n",
            "25        60  2020/12/25'    102       126     334.5\n",
            "26        60   12/26/2020    100       120     250.0\n",
            "27        60  2020/12/27'     92       118     241.0\n",
            "28        60  2020/12/28'    103       132       NaN\n",
            "29        60  2020/12/29'    100       132     280.0\n",
            "30        60  2020/12/30'    102       129     380.3\n",
            "31        60  2020/12/31'     92       115     243.0\n"
          ]
        }
      ]
    },
    {
      "cell_type": "code",
      "source": [
        "print(df.head(10))"
      ],
      "metadata": {
        "colab": {
          "base_uri": "https://localhost:8080/"
        },
        "id": "OYI-3RsoZ4I9",
        "outputId": "5f576266-4951-48e2-dcc8-85429bb30c50"
      },
      "execution_count": 21,
      "outputs": [
        {
          "output_type": "stream",
          "name": "stdout",
          "text": [
            "   Duration         Date  Pulse  Maxpulse  Calories\n",
            "0        60  2020/12/01'    110       130     409.1\n",
            "1        60  2020/12/02'    117       145     479.0\n",
            "2        60  2020/12/03'    103       135     340.0\n",
            "3        45  2020/12/04'    109       175     282.4\n",
            "4        45  2020/12/05'    117       148     406.0\n",
            "5        60  2020/12/06'    102       127     300.0\n",
            "6        60  2020/12/07'    110       136     374.0\n",
            "7       450  2020/12/08'    104       134     253.3\n",
            "8        30  2020/12/09'    109       133     195.1\n",
            "9        60  2020/12/10'     98       124     269.0\n"
          ]
        }
      ]
    },
    {
      "cell_type": "code",
      "source": [
        "print(df.tail(5))"
      ],
      "metadata": {
        "colab": {
          "base_uri": "https://localhost:8080/"
        },
        "id": "96RLoq32Z81I",
        "outputId": "9d28cd44-33a8-49f0-bfcf-9a25763e625c"
      },
      "execution_count": 22,
      "outputs": [
        {
          "output_type": "stream",
          "name": "stdout",
          "text": [
            "    Duration         Date  Pulse  Maxpulse  Calories\n",
            "27        60  2020/12/27'     92       118     241.0\n",
            "28        60  2020/12/28'    103       132       NaN\n",
            "29        60  2020/12/29'    100       132     280.0\n",
            "30        60  2020/12/30'    102       129     380.3\n",
            "31        60  2020/12/31'     92       115     243.0\n"
          ]
        }
      ]
    },
    {
      "cell_type": "markdown",
      "source": [],
      "metadata": {
        "id": "27c1rejIaJ6u"
      }
    },
    {
      "cell_type": "markdown",
      "source": [
        "Problems in our dataset\n",
        "- data contain some empty cells(data in row 22 calories in and and 28)\n",
        "  (\"Date\" in row 22 and calories in row 18 and 28)\n",
        "\n",
        "- The data sets contain wrong format\n",
        "- The data sets contain wrong data in row 7 and 11\n",
        "-"
      ],
      "metadata": {
        "id": "A5ifzJ27aLqN"
      }
    }
  ]
}